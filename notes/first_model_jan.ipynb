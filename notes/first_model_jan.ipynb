{
 "cells": [
  {
   "cell_type": "code",
   "execution_count": 15,
   "id": "5339ab68",
   "metadata": {},
   "outputs": [
    {
     "name": "stdout",
     "output_type": "stream",
     "text": [
      "Index(['SUBJECT_ID', 'DEFINITION_ID', 'TIME'], dtype='object')\n"
     ]
    }
   ],
   "source": [
    "import pandas as pd\n",
    "\n",
    "data = pd.read_csv(\"data/synthetic_data_lung_cancer.csv\")\n",
    "print(data.columns)"
   ]
  },
  {
   "cell_type": "code",
   "execution_count": 16,
   "id": "a8f38bf4",
   "metadata": {},
   "outputs": [
    {
     "name": "stdout",
     "output_type": "stream",
     "text": [
      "Index(['condition', 'death', 'drug', 'measurement', 'observation',\n",
      "       'procedure'],\n",
      "      dtype='object', name='CATEGORY')\n"
     ]
    }
   ],
   "source": [
    "# Splitting 'DEFINITION_ID' into multiple columns\n",
    "new_cols = data['DEFINITION_ID'].str.split('_', expand=True)\n",
    "\n",
    "# Naming the new columns\n",
    "new_cols.columns = ['CATEGORY', 'CATEGORY_ID']\n",
    "\n",
    "# Pivoting the DataFrame\n",
    "pivot_new_cols = new_cols.pivot_table(index=data.index, columns='CATEGORY', values='CATEGORY_ID', aggfunc=lambda x: ', '.join(str(v) for v in x)).fillna('-1')\n",
    "\n",
    "print(pivot_new_cols.columns)"
   ]
  },
  {
   "cell_type": "code",
   "execution_count": 17,
   "id": "f5261a97",
   "metadata": {},
   "outputs": [
    {
     "name": "stdout",
     "output_type": "stream",
     "text": [
      "Index(['SUBJECT_ID', 'TIME', 'condition', 'death', 'drug', 'measurement',\n",
      "       'observation', 'procedure'],\n",
      "      dtype='object')\n",
      "[2400, 419, 225, 491]\n",
      "[False, False, False, False]\n"
     ]
    },
    {
     "data": {
      "text/html": [
       "<div>\n",
       "<style scoped>\n",
       "    .dataframe tbody tr th:only-of-type {\n",
       "        vertical-align: middle;\n",
       "    }\n",
       "\n",
       "    .dataframe tbody tr th {\n",
       "        vertical-align: top;\n",
       "    }\n",
       "\n",
       "    .dataframe thead th {\n",
       "        text-align: right;\n",
       "    }\n",
       "</style>\n",
       "<table border=\"1\" class=\"dataframe\">\n",
       "  <thead>\n",
       "    <tr style=\"text-align: right;\">\n",
       "      <th></th>\n",
       "      <th>SUBJECT_ID</th>\n",
       "      <th>TIME</th>\n",
       "      <th>condition</th>\n",
       "      <th>death</th>\n",
       "      <th>drug</th>\n",
       "      <th>measurement</th>\n",
       "      <th>observation</th>\n",
       "      <th>procedure</th>\n",
       "    </tr>\n",
       "  </thead>\n",
       "  <tbody>\n",
       "    <tr>\n",
       "      <th>0</th>\n",
       "      <td>1</td>\n",
       "      <td>0.004807</td>\n",
       "      <td>-1</td>\n",
       "      <td>0</td>\n",
       "      <td>217</td>\n",
       "      <td>-1</td>\n",
       "      <td>-1</td>\n",
       "      <td>-1</td>\n",
       "    </tr>\n",
       "    <tr>\n",
       "      <th>1</th>\n",
       "      <td>1</td>\n",
       "      <td>0.008643</td>\n",
       "      <td>1922</td>\n",
       "      <td>0</td>\n",
       "      <td>-1</td>\n",
       "      <td>-1</td>\n",
       "      <td>-1</td>\n",
       "      <td>-1</td>\n",
       "    </tr>\n",
       "    <tr>\n",
       "      <th>2</th>\n",
       "      <td>1</td>\n",
       "      <td>0.027792</td>\n",
       "      <td>785</td>\n",
       "      <td>0</td>\n",
       "      <td>-1</td>\n",
       "      <td>-1</td>\n",
       "      <td>-1</td>\n",
       "      <td>-1</td>\n",
       "    </tr>\n",
       "    <tr>\n",
       "      <th>3</th>\n",
       "      <td>1</td>\n",
       "      <td>0.032515</td>\n",
       "      <td>-1</td>\n",
       "      <td>0</td>\n",
       "      <td>49</td>\n",
       "      <td>-1</td>\n",
       "      <td>-1</td>\n",
       "      <td>-1</td>\n",
       "    </tr>\n",
       "    <tr>\n",
       "      <th>4</th>\n",
       "      <td>1</td>\n",
       "      <td>0.056765</td>\n",
       "      <td>-1</td>\n",
       "      <td>0</td>\n",
       "      <td>-1</td>\n",
       "      <td>132</td>\n",
       "      <td>-1</td>\n",
       "      <td>-1</td>\n",
       "    </tr>\n",
       "  </tbody>\n",
       "</table>\n",
       "</div>"
      ],
      "text/plain": [
       "   SUBJECT_ID      TIME condition  death drug measurement observation  \\\n",
       "0           1  0.004807        -1      0  217          -1          -1   \n",
       "1           1  0.008643      1922      0   -1          -1          -1   \n",
       "2           1  0.027792       785      0   -1          -1          -1   \n",
       "3           1  0.032515        -1      0   49          -1          -1   \n",
       "4           1  0.056765        -1      0   -1         132          -1   \n",
       "\n",
       "  procedure  \n",
       "0        -1  \n",
       "1        -1  \n",
       "2        -1  \n",
       "3        -1  \n",
       "4        -1  "
      ]
     },
     "execution_count": 17,
     "metadata": {},
     "output_type": "execute_result"
    }
   ],
   "source": [
    "# Concatenating the new columns to the original DataFrame\n",
    "df = pd.concat([data, pivot_new_cols], axis=1)\n",
    "\n",
    "# Dropping the original 'DEFINITION_ID' column\n",
    "df.drop(columns=['DEFINITION_ID'], inplace=True)\n",
    "\n",
    "# Filling the death column \n",
    "df['death'] = df['death'].replace('None', '1')\n",
    "df['death'] = df['death'].replace('-1', '0')\n",
    "# Converting column to boolean dtype\n",
    "df['death'] = df['death'].astype(int)\n",
    "\n",
    "print(df.columns)\n",
    "#df.loc[(df['condition']=='')&(df['drug']=='')&(df['measurement']=='')&(df['observation']=='')&(df['procedure']=='')]\n",
    "print([len(df['condition'].unique()),\n",
    "len(df['drug'].unique()),\n",
    "len(df['observation'].unique()),\n",
    "len(df['procedure'].unique())])\n",
    "\n",
    "print(['0' in (df['condition'].unique()),\n",
    "'0' in (df['drug'].unique()),\n",
    "'0' in (df['observation'].unique()),\n",
    "'0' in (df['procedure'].unique())])\n",
    "\n",
    "df.head()"
   ]
  },
  {
   "cell_type": "code",
   "execution_count": 4,
   "id": "0880f6ba",
   "metadata": {
    "scrolled": true
   },
   "outputs": [
    {
     "data": {
      "text/html": [
       "<div>\n",
       "<style scoped>\n",
       "    .dataframe tbody tr th:only-of-type {\n",
       "        vertical-align: middle;\n",
       "    }\n",
       "\n",
       "    .dataframe tbody tr th {\n",
       "        vertical-align: top;\n",
       "    }\n",
       "\n",
       "    .dataframe thead th {\n",
       "        text-align: right;\n",
       "    }\n",
       "</style>\n",
       "<table border=\"1\" class=\"dataframe\">\n",
       "  <thead>\n",
       "    <tr style=\"text-align: right;\">\n",
       "      <th></th>\n",
       "      <th>SUBJECT_ID</th>\n",
       "      <th>TIME</th>\n",
       "      <th>condition</th>\n",
       "      <th>death</th>\n",
       "      <th>drug</th>\n",
       "      <th>measurement</th>\n",
       "      <th>observation</th>\n",
       "      <th>procedure</th>\n",
       "    </tr>\n",
       "  </thead>\n",
       "  <tbody>\n",
       "    <tr>\n",
       "      <th>0</th>\n",
       "      <td>1</td>\n",
       "      <td>0.004807</td>\n",
       "      <td>-1</td>\n",
       "      <td>0</td>\n",
       "      <td>217</td>\n",
       "      <td>-1</td>\n",
       "      <td>-1</td>\n",
       "      <td>-1</td>\n",
       "    </tr>\n",
       "    <tr>\n",
       "      <th>1</th>\n",
       "      <td>1</td>\n",
       "      <td>0.008643</td>\n",
       "      <td>1922</td>\n",
       "      <td>0</td>\n",
       "      <td>-1</td>\n",
       "      <td>-1</td>\n",
       "      <td>-1</td>\n",
       "      <td>-1</td>\n",
       "    </tr>\n",
       "    <tr>\n",
       "      <th>2</th>\n",
       "      <td>1</td>\n",
       "      <td>0.027792</td>\n",
       "      <td>785</td>\n",
       "      <td>0</td>\n",
       "      <td>-1</td>\n",
       "      <td>-1</td>\n",
       "      <td>-1</td>\n",
       "      <td>-1</td>\n",
       "    </tr>\n",
       "    <tr>\n",
       "      <th>3</th>\n",
       "      <td>1</td>\n",
       "      <td>0.032515</td>\n",
       "      <td>-1</td>\n",
       "      <td>0</td>\n",
       "      <td>49</td>\n",
       "      <td>-1</td>\n",
       "      <td>-1</td>\n",
       "      <td>-1</td>\n",
       "    </tr>\n",
       "    <tr>\n",
       "      <th>4</th>\n",
       "      <td>1</td>\n",
       "      <td>0.056765</td>\n",
       "      <td>-1</td>\n",
       "      <td>0</td>\n",
       "      <td>-1</td>\n",
       "      <td>132</td>\n",
       "      <td>-1</td>\n",
       "      <td>-1</td>\n",
       "    </tr>\n",
       "  </tbody>\n",
       "</table>\n",
       "</div>"
      ],
      "text/plain": [
       "   SUBJECT_ID      TIME condition  death drug measurement observation  \\\n",
       "0           1  0.004807        -1      0  217          -1          -1   \n",
       "1           1  0.008643      1922      0   -1          -1          -1   \n",
       "2           1  0.027792       785      0   -1          -1          -1   \n",
       "3           1  0.032515        -1      0   49          -1          -1   \n",
       "4           1  0.056765        -1      0   -1         132          -1   \n",
       "\n",
       "  procedure  \n",
       "0        -1  \n",
       "1        -1  \n",
       "2        -1  \n",
       "3        -1  \n",
       "4        -1  "
      ]
     },
     "execution_count": 4,
     "metadata": {},
     "output_type": "execute_result"
    }
   ],
   "source": [
    "#dummies for categorical analysis\n",
    "\n",
    "#df = pd.get_dummies(df,columns=['condition','drug','measurement','observation','procedure'])\n",
    "df.head()\n",
    "\n"
   ]
  },
  {
   "cell_type": "code",
   "execution_count": 5,
   "id": "cebc9cb4",
   "metadata": {},
   "outputs": [
    {
     "name": "stdout",
     "output_type": "stream",
     "text": [
      "0    0\n",
      "1    0\n",
      "2    0\n",
      "3    0\n",
      "4    0\n",
      "Name: death, dtype: int32\n"
     ]
    },
    {
     "data": {
      "text/html": [
       "<div>\n",
       "<style scoped>\n",
       "    .dataframe tbody tr th:only-of-type {\n",
       "        vertical-align: middle;\n",
       "    }\n",
       "\n",
       "    .dataframe tbody tr th {\n",
       "        vertical-align: top;\n",
       "    }\n",
       "\n",
       "    .dataframe thead th {\n",
       "        text-align: right;\n",
       "    }\n",
       "</style>\n",
       "<table border=\"1\" class=\"dataframe\">\n",
       "  <thead>\n",
       "    <tr style=\"text-align: right;\">\n",
       "      <th></th>\n",
       "      <th>SUBJECT_ID</th>\n",
       "      <th>TIME</th>\n",
       "      <th>condition</th>\n",
       "      <th>drug</th>\n",
       "      <th>measurement</th>\n",
       "      <th>observation</th>\n",
       "      <th>procedure</th>\n",
       "    </tr>\n",
       "  </thead>\n",
       "  <tbody>\n",
       "    <tr>\n",
       "      <th>0</th>\n",
       "      <td>1</td>\n",
       "      <td>0.004807</td>\n",
       "      <td>-1</td>\n",
       "      <td>217</td>\n",
       "      <td>-1</td>\n",
       "      <td>-1</td>\n",
       "      <td>-1</td>\n",
       "    </tr>\n",
       "    <tr>\n",
       "      <th>1</th>\n",
       "      <td>1</td>\n",
       "      <td>0.008643</td>\n",
       "      <td>1922</td>\n",
       "      <td>-1</td>\n",
       "      <td>-1</td>\n",
       "      <td>-1</td>\n",
       "      <td>-1</td>\n",
       "    </tr>\n",
       "    <tr>\n",
       "      <th>2</th>\n",
       "      <td>1</td>\n",
       "      <td>0.027792</td>\n",
       "      <td>785</td>\n",
       "      <td>-1</td>\n",
       "      <td>-1</td>\n",
       "      <td>-1</td>\n",
       "      <td>-1</td>\n",
       "    </tr>\n",
       "    <tr>\n",
       "      <th>3</th>\n",
       "      <td>1</td>\n",
       "      <td>0.032515</td>\n",
       "      <td>-1</td>\n",
       "      <td>49</td>\n",
       "      <td>-1</td>\n",
       "      <td>-1</td>\n",
       "      <td>-1</td>\n",
       "    </tr>\n",
       "    <tr>\n",
       "      <th>4</th>\n",
       "      <td>1</td>\n",
       "      <td>0.056765</td>\n",
       "      <td>-1</td>\n",
       "      <td>-1</td>\n",
       "      <td>132</td>\n",
       "      <td>-1</td>\n",
       "      <td>-1</td>\n",
       "    </tr>\n",
       "  </tbody>\n",
       "</table>\n",
       "</div>"
      ],
      "text/plain": [
       "   SUBJECT_ID      TIME condition drug measurement observation procedure\n",
       "0           1  0.004807        -1  217          -1          -1        -1\n",
       "1           1  0.008643      1922   -1          -1          -1        -1\n",
       "2           1  0.027792       785   -1          -1          -1        -1\n",
       "3           1  0.032515        -1   49          -1          -1        -1\n",
       "4           1  0.056765        -1   -1         132          -1        -1"
      ]
     },
     "execution_count": 5,
     "metadata": {},
     "output_type": "execute_result"
    }
   ],
   "source": [
    "from sklearn.model_selection import train_test_split\n",
    "\n",
    "# First, create a list of unique SUBJECT_IDs\n",
    "unique_subject_ids = df['SUBJECT_ID'].unique()\n",
    "\n",
    "# Then, split the unique_subject_ids into train and test IDs\n",
    "train_ids, test_ids = train_test_split(unique_subject_ids, test_size=0.2, random_state=2)\n",
    "\n",
    "# Filter the main DataFrame into train and test sets based on the selected IDs\n",
    "train_data = df[df['SUBJECT_ID'].isin(train_ids)]\n",
    "test_data = df[df['SUBJECT_ID'].isin(test_ids)]\n",
    "\n",
    "# Separate the features (X) and target variable (y) for train and test sets\n",
    "X_train = train_data.drop('death',axis=1)#.drop(['condition_-1','drug_-1','measurement_-1','observation_-1','procedure_-1'],axis=1)  # Drop 'SUBJECT_ID' and target column\n",
    "y_train = pd.Series(train_data.death)\n",
    "\n",
    "X_test = test_data.drop('death',axis=1)#.drop(['condition_-1','drug_-1','measurement_-1','observation_-1','procedure_-1'],axis=1)  # Drop 'SUBJECT_ID' and target column\n",
    "y_test = pd.Series(test_data.death)\n",
    "#old way:\n",
    "#X = df.drop('death',axis=1).drop(['condition_-1','drug_-1','measurement_-1','observation_-1','procedure_-1'],axis=1)\n",
    "#y = pd.Series(df.death)\n",
    "#X_train, X_test, y_train, y_test = train_test_split(X, y, test_size=0.2, random_state=2)\n",
    "\n",
    "print(y_train.head())\n",
    "X_train.head()"
   ]
  },
  {
   "cell_type": "code",
   "execution_count": 6,
   "id": "2b871b91",
   "metadata": {},
   "outputs": [
    {
     "name": "stdout",
     "output_type": "stream",
     "text": [
      "Before: 464916\n",
      "After: 464916\n"
     ]
    }
   ],
   "source": [
    "from imblearn.combine import SMOTEENN\n",
    "\n",
    "print(\"Before: \"+str(len(X_train)))\n",
    "\n",
    "#sampling \n",
    "smote_enn = SMOTEENN()\n",
    "\n",
    "\n",
    "sample_strategy =smote_enn\n",
    "\n",
    "\n",
    "#X_train, y_train = sample_strategy.fit_resample(X_train, y_train)\n",
    "print(\"After: \"+str(len(X_train)))"
   ]
  },
  {
   "cell_type": "code",
   "execution_count": 7,
   "id": "67c6d2f1",
   "metadata": {},
   "outputs": [],
   "source": [
    "from sklearn.feature_selection import RFECV\n",
    "from sklearn.linear_model import LogisticRegression  # Replace with an appropriate estimator\n",
    "from sklearn.svm import SVC\n",
    "from sklearn.naive_bayes import GaussianNB\n",
    "from sklearn.feature_selection import SelectKBest, f_classif\n",
    "from scipy.sparse import csr_matrix\n",
    "\n",
    "#X_train_sparse = csr_matrix(X_train)\n",
    "\n",
    "# Initialize your estimator \n",
    "lr=LogisticRegression(penalty='l1',solver='liblinear')\n",
    "svc=SVC(kernel=\"linear\")\n",
    "nb=GaussianNB()\n",
    "\n",
    "estimator = lr  #change to whatever works best\n",
    "\n",
    "# Initialize RFECV with the estimator and scoring method\n",
    "rfecv=RFECV(estimator=estimator, cv=5)\n",
    "kbest=SelectKBest(score_func=f_classif, k=1000)\n",
    "selector = kbest\n",
    "\n",
    "# Fit the selector on your training data\n",
    "X_train_selected = None#selector.fit_transform(X_train, y_train)\n"
   ]
  },
  {
   "cell_type": "code",
   "execution_count": 8,
   "id": "b537ddb1",
   "metadata": {},
   "outputs": [],
   "source": [
    "#\n",
    "## Get selected feature indices\n",
    "#selected_feature_indices = selector.get_support(indices=True)\n",
    "#\n",
    "## Get the names of selected features\n",
    "#selected_feature_names = X_train.columns[selected_feature_indices]\n",
    "#\n",
    "## Create DataFrame with selected features\n",
    "#X_train_selected_df = X_train[selected_feature_names]\n",
    "#\n",
    "#X_train_selected_df.columns\n",
    "#X_train_selected_df.head()\n",
    "#\n",
    "## no scaling necessary"
   ]
  },
  {
   "cell_type": "code",
   "execution_count": 12,
   "id": "1b099fc0",
   "metadata": {},
   "outputs": [
    {
     "data": {
      "text/html": [
       "<style>#sk-container-id-2 {color: black;background-color: white;}#sk-container-id-2 pre{padding: 0;}#sk-container-id-2 div.sk-toggleable {background-color: white;}#sk-container-id-2 label.sk-toggleable__label {cursor: pointer;display: block;width: 100%;margin-bottom: 0;padding: 0.3em;box-sizing: border-box;text-align: center;}#sk-container-id-2 label.sk-toggleable__label-arrow:before {content: \"▸\";float: left;margin-right: 0.25em;color: #696969;}#sk-container-id-2 label.sk-toggleable__label-arrow:hover:before {color: black;}#sk-container-id-2 div.sk-estimator:hover label.sk-toggleable__label-arrow:before {color: black;}#sk-container-id-2 div.sk-toggleable__content {max-height: 0;max-width: 0;overflow: hidden;text-align: left;background-color: #f0f8ff;}#sk-container-id-2 div.sk-toggleable__content pre {margin: 0.2em;color: black;border-radius: 0.25em;background-color: #f0f8ff;}#sk-container-id-2 input.sk-toggleable__control:checked~div.sk-toggleable__content {max-height: 200px;max-width: 100%;overflow: auto;}#sk-container-id-2 input.sk-toggleable__control:checked~label.sk-toggleable__label-arrow:before {content: \"▾\";}#sk-container-id-2 div.sk-estimator input.sk-toggleable__control:checked~label.sk-toggleable__label {background-color: #d4ebff;}#sk-container-id-2 div.sk-label input.sk-toggleable__control:checked~label.sk-toggleable__label {background-color: #d4ebff;}#sk-container-id-2 input.sk-hidden--visually {border: 0;clip: rect(1px 1px 1px 1px);clip: rect(1px, 1px, 1px, 1px);height: 1px;margin: -1px;overflow: hidden;padding: 0;position: absolute;width: 1px;}#sk-container-id-2 div.sk-estimator {font-family: monospace;background-color: #f0f8ff;border: 1px dotted black;border-radius: 0.25em;box-sizing: border-box;margin-bottom: 0.5em;}#sk-container-id-2 div.sk-estimator:hover {background-color: #d4ebff;}#sk-container-id-2 div.sk-parallel-item::after {content: \"\";width: 100%;border-bottom: 1px solid gray;flex-grow: 1;}#sk-container-id-2 div.sk-label:hover label.sk-toggleable__label {background-color: #d4ebff;}#sk-container-id-2 div.sk-serial::before {content: \"\";position: absolute;border-left: 1px solid gray;box-sizing: border-box;top: 0;bottom: 0;left: 50%;z-index: 0;}#sk-container-id-2 div.sk-serial {display: flex;flex-direction: column;align-items: center;background-color: white;padding-right: 0.2em;padding-left: 0.2em;position: relative;}#sk-container-id-2 div.sk-item {position: relative;z-index: 1;}#sk-container-id-2 div.sk-parallel {display: flex;align-items: stretch;justify-content: center;background-color: white;position: relative;}#sk-container-id-2 div.sk-item::before, #sk-container-id-2 div.sk-parallel-item::before {content: \"\";position: absolute;border-left: 1px solid gray;box-sizing: border-box;top: 0;bottom: 0;left: 50%;z-index: -1;}#sk-container-id-2 div.sk-parallel-item {display: flex;flex-direction: column;z-index: 1;position: relative;background-color: white;}#sk-container-id-2 div.sk-parallel-item:first-child::after {align-self: flex-end;width: 50%;}#sk-container-id-2 div.sk-parallel-item:last-child::after {align-self: flex-start;width: 50%;}#sk-container-id-2 div.sk-parallel-item:only-child::after {width: 0;}#sk-container-id-2 div.sk-dashed-wrapped {border: 1px dashed gray;margin: 0 0.4em 0.5em 0.4em;box-sizing: border-box;padding-bottom: 0.4em;background-color: white;}#sk-container-id-2 div.sk-label label {font-family: monospace;font-weight: bold;display: inline-block;line-height: 1.2em;}#sk-container-id-2 div.sk-label-container {text-align: center;}#sk-container-id-2 div.sk-container {/* jupyter's `normalize.less` sets `[hidden] { display: none; }` but bootstrap.min.css set `[hidden] { display: none !important; }` so we also need the `!important` here to be able to override the default hidden behavior on the sphinx rendered scikit-learn.org. See: https://github.com/scikit-learn/scikit-learn/issues/21755 */display: inline-block !important;position: relative;}#sk-container-id-2 div.sk-text-repr-fallback {display: none;}</style><div id=\"sk-container-id-2\" class=\"sk-top-container\"><div class=\"sk-text-repr-fallback\"><pre>SVC(kernel=&#x27;linear&#x27;, probability=True)</pre><b>In a Jupyter environment, please rerun this cell to show the HTML representation or trust the notebook. <br />On GitHub, the HTML representation is unable to render, please try loading this page with nbviewer.org.</b></div><div class=\"sk-container\" hidden><div class=\"sk-item\"><div class=\"sk-estimator sk-toggleable\"><input class=\"sk-toggleable__control sk-hidden--visually\" id=\"sk-estimator-id-2\" type=\"checkbox\" checked><label for=\"sk-estimator-id-2\" class=\"sk-toggleable__label sk-toggleable__label-arrow\">SVC</label><div class=\"sk-toggleable__content\"><pre>SVC(kernel=&#x27;linear&#x27;, probability=True)</pre></div></div></div></div></div>"
      ],
      "text/plain": [
       "SVC(kernel='linear', probability=True)"
      ]
     },
     "execution_count": 12,
     "metadata": {},
     "output_type": "execute_result"
    }
   ],
   "source": [
    "from sklearn.ensemble import RandomForestClassifier\n",
    "from sklearn.svm import SVC\n",
    "\n",
    "# model\n",
    "rf = RandomForestClassifier(n_estimators=100,criterion=\"gini\",max_features=100,max_depth=4)\n",
    "svc = SVC(kernel=\"linear\", probability=True)\n",
    "model = svc\n",
    "\n",
    "#fit model\n",
    "model.fit(X_train,y_train)"
   ]
  },
  {
   "cell_type": "code",
   "execution_count": 22,
   "id": "7d0e59d4",
   "metadata": {},
   "outputs": [
    {
     "ename": "AttributeError",
     "evalue": "'SVC' object has no attribute 'feature_importances_'",
     "output_type": "error",
     "traceback": [
      "\u001b[1;31m---------------------------------------------------------------------------\u001b[0m",
      "\u001b[1;31mAttributeError\u001b[0m                            Traceback (most recent call last)",
      "Cell \u001b[1;32mIn[22], line 6\u001b[0m\n\u001b[0;32m      2\u001b[0m \u001b[38;5;28;01mimport\u001b[39;00m \u001b[38;5;21;01mmatplotlib\u001b[39;00m\u001b[38;5;21;01m.\u001b[39;00m\u001b[38;5;21;01mpyplot\u001b[39;00m \u001b[38;5;28;01mas\u001b[39;00m \u001b[38;5;21;01mplt\u001b[39;00m\n\u001b[0;32m      5\u001b[0m \u001b[38;5;66;03m# Get feature importances\u001b[39;00m\n\u001b[1;32m----> 6\u001b[0m feature_importances \u001b[38;5;241m=\u001b[39m model\u001b[38;5;241m.\u001b[39mfeature_importances_\n\u001b[0;32m      7\u001b[0m feature_names \u001b[38;5;241m=\u001b[39m X_train\u001b[38;5;241m.\u001b[39mcolumns\n\u001b[0;32m      9\u001b[0m \u001b[38;5;66;03m# Sort feature importances in descending order\u001b[39;00m\n",
      "\u001b[1;31mAttributeError\u001b[0m: 'SVC' object has no attribute 'feature_importances_'"
     ]
    }
   ],
   "source": [
    "import numpy as np\n",
    "import matplotlib.pyplot as plt\n",
    "\n",
    "\n",
    "## Get feature importances\n",
    "#feature_importances = model.feature_importances_\n",
    "#feature_names = X_train.columns\n",
    "#\n",
    "## Sort feature importances in descending order\n",
    "#indices = np.argsort(feature_importances)[::-1]\n",
    "#\n",
    "## Limit the number of features to display (top 100)\n",
    "#top_n = 5\n",
    "#indices = indices[:top_n]\n",
    "#feature_importances = feature_importances[indices]\n",
    "#feature_names = feature_names[indices]\n",
    "#\n",
    "## Plot feature importances (top 100)\n",
    "#plt.figure(figsize=(16, 6))\n",
    "#plt.title(\"Top 100 Feature Importances\")\n",
    "#plt.bar(range(top_n), feature_importances, align=\"center\")\n",
    "#plt.xticks(range(top_n), feature_names, rotation=90)\n",
    "#plt.xlabel(\"Feature Names\")\n",
    "#plt.ylabel(\"Feature Importance\")\n",
    "#plt.yscale('log')\n",
    "#plt.tight_layout()\n",
    "#plt.show()"
   ]
  },
  {
   "cell_type": "code",
   "execution_count": 13,
   "id": "d98ff568",
   "metadata": {},
   "outputs": [
    {
     "name": "stdout",
     "output_type": "stream",
     "text": [
      "[1. 1. 1. 1. 1.]\n"
     ]
    }
   ],
   "source": [
    "from sklearn.metrics import roc_auc_score\n",
    "from sklearn.model_selection import cross_val_score\n",
    "from sklearn.model_selection import cross_validate\n",
    "from sklearn.model_selection import StratifiedKFold\n",
    "from sklearn.model_selection import KFold\n",
    "\n",
    "cv = KFold(n_splits=5)#, shuffle=True, random_state=42\n",
    "\n",
    "#cross validation\n",
    "scores = cross_val_score(model, X_train, y_train, cv=cv, scoring='roc_auc')\n",
    "print(scores)"
   ]
  },
  {
   "cell_type": "code",
   "execution_count": 14,
   "id": "130f693a",
   "metadata": {},
   "outputs": [
    {
     "name": "stdout",
     "output_type": "stream",
     "text": [
      "AUC: 1.0\n"
     ]
    }
   ],
   "source": [
    "\n",
    "\n",
    "#predict probabilities\n",
    "probs = model.predict_proba(X_test)\n",
    "probs = pd.DataFrame(probs)\n",
    "probs = pd.Series(probs.iloc[:, 1])\n",
    "\n",
    "# Calculate AUC\n",
    "auc = roc_auc_score(y_test.values, probs)\n",
    "print(\"AUC:\", auc)"
   ]
  }
 ],
 "metadata": {
  "kernelspec": {
   "display_name": "Python 3 (ipykernel)",
   "language": "python",
   "name": "python3"
  },
  "language_info": {
   "codemirror_mode": {
    "name": "ipython",
    "version": 3
   },
   "file_extension": ".py",
   "mimetype": "text/x-python",
   "name": "python",
   "nbconvert_exporter": "python",
   "pygments_lexer": "ipython3",
   "version": "3.11.5"
  }
 },
 "nbformat": 4,
 "nbformat_minor": 5
}
