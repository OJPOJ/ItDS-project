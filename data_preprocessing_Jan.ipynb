{
 "cells": [
  {
   "cell_type": "code",
   "execution_count": 61,
   "id": "5339ab68",
   "metadata": {},
   "outputs": [
    {
     "name": "stdout",
     "output_type": "stream",
     "text": [
      "Index(['SUBJECT_ID', 'DEFINITION_ID', 'TIME'], dtype='object')\n"
     ]
    }
   ],
   "source": [
    "import pandas as pd\n",
    "\n",
    "data = pd.read_csv(\"data/synthetic_data_lung_cancer.csv\")\n",
    "print(data.columns)"
   ]
  },
  {
   "cell_type": "code",
   "execution_count": 62,
   "id": "a8f38bf4",
   "metadata": {},
   "outputs": [
    {
     "name": "stdout",
     "output_type": "stream",
     "text": [
      "Index(['condition', 'death', 'drug', 'measurement', 'observation',\n",
      "       'procedure'],\n",
      "      dtype='object', name='CATEGORY')\n"
     ]
    }
   ],
   "source": [
    "# Splitting 'DEFINITION_ID' into multiple columns\n",
    "new_cols = data['DEFINITION_ID'].str.split('_', expand=True)\n",
    "\n",
    "# Naming the new columns\n",
    "new_cols.columns = ['CATEGORY', 'CATEGORY_ID']\n",
    "\n",
    "# Pivoting the DataFrame\n",
    "pivot_new_cols = new_cols.pivot_table(index=df.index, columns='CATEGORY', values='CATEGORY_ID', aggfunc=lambda x: ', '.join(str(v) for v in x)).fillna('')\n",
    "\n",
    "print(pivot_new_cols.columns)"
   ]
  },
  {
   "cell_type": "code",
   "execution_count": 71,
   "id": "f5261a97",
   "metadata": {},
   "outputs": [
    {
     "name": "stdout",
     "output_type": "stream",
     "text": [
      "Index(['SUBJECT_ID', 'TIME', 'condition', 'death', 'drug', 'measurement',\n",
      "       'observation', 'procedure'],\n",
      "      dtype='object')\n",
      "[2400, 419, 225, 491]\n",
      "[False, False, False, False]\n"
     ]
    },
    {
     "data": {
      "text/html": [
       "<div>\n",
       "<style scoped>\n",
       "    .dataframe tbody tr th:only-of-type {\n",
       "        vertical-align: middle;\n",
       "    }\n",
       "\n",
       "    .dataframe tbody tr th {\n",
       "        vertical-align: top;\n",
       "    }\n",
       "\n",
       "    .dataframe thead th {\n",
       "        text-align: right;\n",
       "    }\n",
       "</style>\n",
       "<table border=\"1\" class=\"dataframe\">\n",
       "  <thead>\n",
       "    <tr style=\"text-align: right;\">\n",
       "      <th></th>\n",
       "      <th>SUBJECT_ID</th>\n",
       "      <th>TIME</th>\n",
       "      <th>condition</th>\n",
       "      <th>death</th>\n",
       "      <th>drug</th>\n",
       "      <th>measurement</th>\n",
       "      <th>observation</th>\n",
       "      <th>procedure</th>\n",
       "    </tr>\n",
       "  </thead>\n",
       "  <tbody>\n",
       "    <tr>\n",
       "      <th>0</th>\n",
       "      <td>1</td>\n",
       "      <td>0.004807</td>\n",
       "      <td></td>\n",
       "      <td>0</td>\n",
       "      <td>217</td>\n",
       "      <td></td>\n",
       "      <td></td>\n",
       "      <td></td>\n",
       "    </tr>\n",
       "    <tr>\n",
       "      <th>1</th>\n",
       "      <td>1</td>\n",
       "      <td>0.008643</td>\n",
       "      <td>1922</td>\n",
       "      <td>0</td>\n",
       "      <td></td>\n",
       "      <td></td>\n",
       "      <td></td>\n",
       "      <td></td>\n",
       "    </tr>\n",
       "    <tr>\n",
       "      <th>2</th>\n",
       "      <td>1</td>\n",
       "      <td>0.027792</td>\n",
       "      <td>785</td>\n",
       "      <td>0</td>\n",
       "      <td></td>\n",
       "      <td></td>\n",
       "      <td></td>\n",
       "      <td></td>\n",
       "    </tr>\n",
       "    <tr>\n",
       "      <th>3</th>\n",
       "      <td>1</td>\n",
       "      <td>0.032515</td>\n",
       "      <td></td>\n",
       "      <td>0</td>\n",
       "      <td>49</td>\n",
       "      <td></td>\n",
       "      <td></td>\n",
       "      <td></td>\n",
       "    </tr>\n",
       "    <tr>\n",
       "      <th>4</th>\n",
       "      <td>1</td>\n",
       "      <td>0.056765</td>\n",
       "      <td></td>\n",
       "      <td>0</td>\n",
       "      <td></td>\n",
       "      <td>132</td>\n",
       "      <td></td>\n",
       "      <td></td>\n",
       "    </tr>\n",
       "  </tbody>\n",
       "</table>\n",
       "</div>"
      ],
      "text/plain": [
       "   SUBJECT_ID      TIME condition  death drug measurement observation  \\\n",
       "0           1  0.004807                0  217                           \n",
       "1           1  0.008643      1922      0                                \n",
       "2           1  0.027792       785      0                                \n",
       "3           1  0.032515                0   49                           \n",
       "4           1  0.056765                0              132               \n",
       "\n",
       "  procedure  \n",
       "0            \n",
       "1            \n",
       "2            \n",
       "3            \n",
       "4            "
      ]
     },
     "execution_count": 71,
     "metadata": {},
     "output_type": "execute_result"
    }
   ],
   "source": [
    "# Concatenating the new columns to the original DataFrame\n",
    "df = pd.concat([data, pivot_new_cols], axis=1)\n",
    "\n",
    "# Dropping the original 'DEFINITION_ID' column\n",
    "df.drop(columns=['DEFINITION_ID'], inplace=True)\n",
    "\n",
    "# Filling the death column \n",
    "df['death'] = df['death'].replace('None', '1')\n",
    "df['death'] = df['death'].replace('', '0')\n",
    "# Converting column to boolean dtype\n",
    "df['death'] = df['death'].astype(int)\n",
    "\n",
    "print(df.columns)\n",
    "#df.loc[(df['condition']=='')&(df['drug']=='')&(df['measurement']=='')&(df['observation']=='')&(df['procedure']=='')]\n",
    "print([len(df['condition'].unique()),\n",
    "len(df['drug'].unique()),\n",
    "len(df['observation'].unique()),\n",
    "len(df['procedure'].unique())])\n",
    "\n",
    "print(['0' in (df['condition'].unique()),\n",
    "'0' in (df['drug'].unique()),\n",
    "'0' in (df['observation'].unique()),\n",
    "'0' in (df['procedure'].unique())])\n",
    "\n",
    "df.head()"
   ]
  }
 ],
 "metadata": {
  "kernelspec": {
   "display_name": "Python 3 (ipykernel)",
   "language": "python",
   "name": "python3"
  },
  "language_info": {
   "codemirror_mode": {
    "name": "ipython",
    "version": 3
   },
   "file_extension": ".py",
   "mimetype": "text/x-python",
   "name": "python",
   "nbconvert_exporter": "python",
   "pygments_lexer": "ipython3",
   "version": "3.11.5"
  }
 },
 "nbformat": 4,
 "nbformat_minor": 5
}
