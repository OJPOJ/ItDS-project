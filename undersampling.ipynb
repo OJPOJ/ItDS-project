{
  "nbformat": 4,
  "nbformat_minor": 0,
  "metadata": {
    "colab": {
      "provenance": []
    },
    "kernelspec": {
      "name": "python3",
      "display_name": "Python 3"
    },
    "language_info": {
      "name": "python"
    }
  },
  "cells": [
    {
      "cell_type": "code",
      "execution_count": null,
      "metadata": {
        "id": "u8vu9aQzT2Xq"
      },
      "outputs": [],
      "source": []
    },
    {
      "cell_type": "code",
      "source": [
        "from sklearn.utils import resample\n",
        "\n",
        "# Separate majority and minority classes\n",
        "df_majority = df[df.death==0]\n",
        "df_minority = df[df.death==1]\n",
        "\n",
        "# Downsample majority class\n",
        "df_majority_downsampled = resample(df_majority,\n",
        "                                 replace=False,    # sample without replacement\n",
        "                                 n_samples=len(df_minority), # to match minority class\n",
        "                                 random_state=123) # reproducible results\n",
        "\n",
        "# Combine minority class with downsampled majority class\n",
        "df_balanced = pd.concat([df_majority_downsampled, df_minority])\n",
        "\n",
        "# Display new class counts\n",
        "print(df_balanced.death.value_counts())"
      ],
      "metadata": {
        "colab": {
          "base_uri": "https://localhost:8080/"
        },
        "id": "ypyVI4y4RsAa",
        "outputId": "a01b4a4c-874d-41ff-94cb-ef6a99c8c2bd"
      },
      "execution_count": null,
      "outputs": [
        {
          "output_type": "stream",
          "name": "stdout",
          "text": [
            "0    263\n",
            "1    263\n",
            "Name: death, dtype: int64\n"
          ]
        }
      ]
    }
  ]
}