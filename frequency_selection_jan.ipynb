{
 "cells": [
  {
   "cell_type": "markdown",
   "id": "f619a3d9",
   "metadata": {},
   "source": [
    "<h1>Frequency selection on the lung cancer dataset</h1>"
   ]
  },
  {
   "cell_type": "code",
   "execution_count": 51,
   "id": "5339ab68",
   "metadata": {},
   "outputs": [
    {
     "name": "stdout",
     "output_type": "stream",
     "text": [
      "Index(['SUBJECT_ID', 'DEFINITION_ID', 'TIME'], dtype='object')\n"
     ]
    }
   ],
   "source": [
    "import pandas as pd\n",
    "from sklearn.preprocessing import StandardScaler\n",
    "import numpy as np\n",
    "import networkx as nx\n",
    "from sklearn.model_selection import train_test_split, cross_val_score\n",
    "from sklearn.ensemble import RandomForestClassifier\n",
    "from sklearn.metrics import roc_auc_score, classification_report \n",
    "from sklearn.preprocessing import LabelEncoder\n",
    "from sklearn.preprocessing import OneHotEncoder\n",
    "from sklearn.metrics import accuracy_score, precision_score, recall_score, roc_auc_score\n",
    "\n",
    "data = pd.read_csv(\"data/synthetic_data_lung_cancer.csv\")\n",
    "print(data.columns)"
   ]
  },
  {
   "cell_type": "markdown",
   "id": "e002168d",
   "metadata": {},
   "source": [
    "This function calculates the performance of a base-model on a passed data-set."
   ]
  },
  {
   "cell_type": "code",
   "execution_count": 52,
   "id": "a8fc587f",
   "metadata": {},
   "outputs": [],
   "source": [
    "def calculateAUCWithBaseModel(data):\n",
    "    label_encoder = LabelEncoder()\n",
    "    data['DEFINITION_ID_encoded'] = label_encoder.fit_transform(data['DEFINITION_ID'])\n",
    "    data['condition'] = data['DEFINITION_ID'].apply(lambda x: 'condition' in x)\n",
    "    data['procedure'] = data['DEFINITION_ID'].apply(lambda x: 'procedure' in x)\n",
    "    data['drug'] = data['DEFINITION_ID'].apply(lambda x: 'drug' in x)\n",
    "    data['observation'] = data['DEFINITION_ID'].apply(lambda x: 'observation' in x)\n",
    "    data['measurement'] = data['DEFINITION_ID'].apply(lambda x: 'measurement' in x)\n",
    "    data.drop(columns=['DEFINITION_ID'], inplace=True)\n",
    "    data['time_since_last'] = data.groupby('SUBJECT_ID')['TIME'].diff().fillna(0)\n",
    "    columns_to_convert = ['condition', 'procedure', 'drug', 'observation', 'measurement']\n",
    "    for column in columns_to_convert:\n",
    "        data[column] = data[column].astype(int)\n",
    "    time_threshold = 1 \n",
    "    data['DEATH'] = data['time_since_last'].apply(lambda x: 1 if x <= time_threshold else 0)\n",
    "    X = data[['SUBJECT_ID', 'TIME', 'DEFINITION_ID_encoded', 'condition', 'procedure', 'drug', 'observation', 'measurement']]\n",
    "    y = data['DEATH']\n",
    "    scaler = StandardScaler()\n",
    "    X = scaler.fit_transform(X)\n",
    "    X_train, X_test, y_train, y_test = train_test_split(X, y, test_size=0.2, random_state=42)\n",
    "    classifier = RandomForestClassifier(class_weight='balanced', random_state=42)\n",
    "    classifier.fit(X_train, y_train)\n",
    "    y_pred = classifier.predict(X_test)\n",
    "    accuracy = accuracy_score(y_test, y_pred)\n",
    "    precision = precision_score(y_test, y_pred)\n",
    "    recall = recall_score(y_test, y_pred)\n",
    "    roc_auc = roc_auc_score(y_test, y_pred)\n",
    "    print(f\"Accuracy: {accuracy}\")\n",
    "    print(f\"Precision: {precision}\")\n",
    "    print(f\"Recall: {recall}\")\n",
    "    print(f\"ROC AUC: {roc_auc}\")\n",
    "    return roc_auc"
   ]
  },
  {
   "cell_type": "markdown",
   "id": "7830944f",
   "metadata": {},
   "source": [
    "Here the frequency map of every DEFENITION_ID is created and a set of threshholds is iterated ofer in order to get the best model performance over a frequency-trimmed data-set."
   ]
  },
  {
   "cell_type": "code",
   "execution_count": 53,
   "id": "d4d859c1",
   "metadata": {},
   "outputs": [
    {
     "name": "stdout",
     "output_type": "stream",
     "text": [
      "Accuracy: 0.9996880431391774\n",
      "Precision: 0.9996879040527888\n",
      "Recall: 1.0\n",
      "ROC AUC: 0.7941176470588236\n",
      "560971\n",
      "Accuracy: 0.9995730588601826\n",
      "Precision: 0.9995728222594239\n",
      "Recall: 1.0\n",
      "ROC AUC: 0.7823529411764706\n",
      "Accuracy: 0.9995284882313211\n",
      "Precision: 0.999528151501626\n",
      "Recall: 1.0\n",
      "ROC AUC: 0.8010752688172043\n",
      "392351\n",
      "Accuracy: 0.9991539035163196\n",
      "Precision: 0.9991819512615173\n",
      "Recall: 0.9999712738606495\n",
      "ROC AUC: 0.7385177470220678\n",
      "0.8010752688172043\n",
      "0.2\n"
     ]
    }
   ],
   "source": [
    "# Calculate frequency of occurrence for each category in 'DEFINITION_ID' column\n",
    "frequency_map = data['DEFINITION_ID'].value_counts(normalize=True).to_dict()\n",
    "\n",
    "# Define thresholds for low and high frequencies\n",
    "min_frequency = min(frequency_map.values())\n",
    "max_frequency = max(frequency_map.values())\n",
    "\n",
    "low_thresholds=[0,0.1,0.2,0.3]\n",
    "best_data = None\n",
    "best_AUC = 0\n",
    "best_threshold = 0\n",
    "low_threshold = 0\n",
    "high_threshold = 1\n",
    "for i in range(len(low_thresholds)):\n",
    "    low_threshold = low_thresholds[i]\n",
    "    \n",
    "    low_threshold_normalized =  min_frequency + (max_frequency - min_frequency) * low_threshold\n",
    "    high_threshold_normalized = min_frequency + (max_frequency - min_frequency) * high_threshold\n",
    "    \n",
    "    # Get categories below the low threshold and above the high threshold\n",
    "    infrequent_categories = [category for category, freq in frequency_map.items() if freq < low_threshold_normalized]\n",
    "    frequent_categories = [category for category, freq in frequency_map.items() if freq > high_threshold_normalized]\n",
    "    \n",
    "    # Filter rows based on frequency thresholds\n",
    "    filtered_data = data[~data['DEFINITION_ID'].isin(infrequent_categories + frequent_categories)]\n",
    "    new_AUC = calculateAUCWithBaseModel(filtered_data.copy())\n",
    "    if(new_AUC>best_AUC):\n",
    "        best_data=filtered_data\n",
    "        best_threshold=low_threshold\n",
    "        best_AUC=new_AUC\n",
    "        print(len(filtered_data))\n",
    "print(best_AUC)\n",
    "print(best_threshold)\n"
   ]
  },
  {
   "cell_type": "markdown",
   "id": "771d6554",
   "metadata": {},
   "source": [
    "The best data constellation is saved to a specific file. This path has to be used in workflow.ipynb ."
   ]
  },
  {
   "cell_type": "code",
   "execution_count": 41,
   "id": "a8f38bf4",
   "metadata": {},
   "outputs": [
    {
     "name": "stdout",
     "output_type": "stream",
     "text": [
      "Index(['condition', 'death', 'drug', 'measurement', 'observation',\n",
      "       'procedure'],\n",
      "      dtype='object', name='CATEGORY')\n"
     ]
    }
   ],
   "source": [
    "#save filtered data\n",
    "best_data.to_csv('data/bestFrequencyFiltered_t-low-'+str(low_threshold)+'_t-high-'+str(high_threshold)+'.csv')\n",
    "data = best_data\n"
   ]
  },
  {
   "cell_type": "code",
   "execution_count": 42,
   "id": "f5261a97",
   "metadata": {},
   "outputs": [
    {
     "name": "stdout",
     "output_type": "stream",
     "text": [
      "Index(['SUBJECT_ID', 'TIME', 'condition', 'death', 'drug', 'measurement',\n",
      "       'observation', 'procedure'],\n",
      "      dtype='object')\n",
      "[2400, 419, 225, 491]\n",
      "[False, False, False, False]\n"
     ]
    },
    {
     "data": {
      "text/html": [
       "<div>\n",
       "<style scoped>\n",
       "    .dataframe tbody tr th:only-of-type {\n",
       "        vertical-align: middle;\n",
       "    }\n",
       "\n",
       "    .dataframe tbody tr th {\n",
       "        vertical-align: top;\n",
       "    }\n",
       "\n",
       "    .dataframe thead th {\n",
       "        text-align: right;\n",
       "    }\n",
       "</style>\n",
       "<table border=\"1\" class=\"dataframe\">\n",
       "  <thead>\n",
       "    <tr style=\"text-align: right;\">\n",
       "      <th></th>\n",
       "      <th>SUBJECT_ID</th>\n",
       "      <th>TIME</th>\n",
       "      <th>condition</th>\n",
       "      <th>death</th>\n",
       "      <th>drug</th>\n",
       "      <th>measurement</th>\n",
       "      <th>observation</th>\n",
       "      <th>procedure</th>\n",
       "    </tr>\n",
       "  </thead>\n",
       "  <tbody>\n",
       "    <tr>\n",
       "      <th>0</th>\n",
       "      <td>1</td>\n",
       "      <td>0.004807</td>\n",
       "      <td>-1</td>\n",
       "      <td>0</td>\n",
       "      <td>217</td>\n",
       "      <td>-1</td>\n",
       "      <td>-1</td>\n",
       "      <td>-1</td>\n",
       "    </tr>\n",
       "    <tr>\n",
       "      <th>1</th>\n",
       "      <td>1</td>\n",
       "      <td>0.008643</td>\n",
       "      <td>1922</td>\n",
       "      <td>0</td>\n",
       "      <td>-1</td>\n",
       "      <td>-1</td>\n",
       "      <td>-1</td>\n",
       "      <td>-1</td>\n",
       "    </tr>\n",
       "    <tr>\n",
       "      <th>2</th>\n",
       "      <td>1</td>\n",
       "      <td>0.027792</td>\n",
       "      <td>785</td>\n",
       "      <td>0</td>\n",
       "      <td>-1</td>\n",
       "      <td>-1</td>\n",
       "      <td>-1</td>\n",
       "      <td>-1</td>\n",
       "    </tr>\n",
       "    <tr>\n",
       "      <th>3</th>\n",
       "      <td>1</td>\n",
       "      <td>0.032515</td>\n",
       "      <td>-1</td>\n",
       "      <td>0</td>\n",
       "      <td>49</td>\n",
       "      <td>-1</td>\n",
       "      <td>-1</td>\n",
       "      <td>-1</td>\n",
       "    </tr>\n",
       "    <tr>\n",
       "      <th>4</th>\n",
       "      <td>1</td>\n",
       "      <td>0.056765</td>\n",
       "      <td>-1</td>\n",
       "      <td>0</td>\n",
       "      <td>-1</td>\n",
       "      <td>132</td>\n",
       "      <td>-1</td>\n",
       "      <td>-1</td>\n",
       "    </tr>\n",
       "  </tbody>\n",
       "</table>\n",
       "</div>"
      ],
      "text/plain": [
       "   SUBJECT_ID      TIME condition  death drug measurement observation  \\\n",
       "0           1  0.004807        -1      0  217          -1          -1   \n",
       "1           1  0.008643      1922      0   -1          -1          -1   \n",
       "2           1  0.027792       785      0   -1          -1          -1   \n",
       "3           1  0.032515        -1      0   49          -1          -1   \n",
       "4           1  0.056765        -1      0   -1         132          -1   \n",
       "\n",
       "  procedure  \n",
       "0        -1  \n",
       "1        -1  \n",
       "2        -1  \n",
       "3        -1  \n",
       "4        -1  "
      ]
     },
     "execution_count": 42,
     "metadata": {},
     "output_type": "execute_result"
    }
   ],
   "source": []
  },
  {
   "cell_type": "code",
   "execution_count": 50,
   "id": "0880f6ba",
   "metadata": {
    "scrolled": true
   },
   "outputs": [
    {
     "data": {
      "text/plain": [
       "[263, 727]"
      ]
     },
     "execution_count": 50,
     "metadata": {},
     "output_type": "execute_result"
    }
   ],
   "source": []
  },
  {
   "cell_type": "code",
   "execution_count": 5,
   "id": "cebc9cb4",
   "metadata": {},
   "outputs": [
    {
     "name": "stdout",
     "output_type": "stream",
     "text": [
      "0    0\n",
      "1    0\n",
      "2    0\n",
      "3    0\n",
      "4    0\n",
      "Name: death, dtype: int32\n"
     ]
    },
    {
     "data": {
      "text/html": [
       "<div>\n",
       "<style scoped>\n",
       "    .dataframe tbody tr th:only-of-type {\n",
       "        vertical-align: middle;\n",
       "    }\n",
       "\n",
       "    .dataframe tbody tr th {\n",
       "        vertical-align: top;\n",
       "    }\n",
       "\n",
       "    .dataframe thead th {\n",
       "        text-align: right;\n",
       "    }\n",
       "</style>\n",
       "<table border=\"1\" class=\"dataframe\">\n",
       "  <thead>\n",
       "    <tr style=\"text-align: right;\">\n",
       "      <th></th>\n",
       "      <th>SUBJECT_ID</th>\n",
       "      <th>TIME</th>\n",
       "      <th>condition</th>\n",
       "      <th>drug</th>\n",
       "      <th>measurement</th>\n",
       "      <th>observation</th>\n",
       "      <th>procedure</th>\n",
       "    </tr>\n",
       "  </thead>\n",
       "  <tbody>\n",
       "    <tr>\n",
       "      <th>0</th>\n",
       "      <td>1</td>\n",
       "      <td>0.004807</td>\n",
       "      <td>-1</td>\n",
       "      <td>217</td>\n",
       "      <td>-1</td>\n",
       "      <td>-1</td>\n",
       "      <td>-1</td>\n",
       "    </tr>\n",
       "    <tr>\n",
       "      <th>1</th>\n",
       "      <td>1</td>\n",
       "      <td>0.008643</td>\n",
       "      <td>1922</td>\n",
       "      <td>-1</td>\n",
       "      <td>-1</td>\n",
       "      <td>-1</td>\n",
       "      <td>-1</td>\n",
       "    </tr>\n",
       "    <tr>\n",
       "      <th>2</th>\n",
       "      <td>1</td>\n",
       "      <td>0.027792</td>\n",
       "      <td>785</td>\n",
       "      <td>-1</td>\n",
       "      <td>-1</td>\n",
       "      <td>-1</td>\n",
       "      <td>-1</td>\n",
       "    </tr>\n",
       "    <tr>\n",
       "      <th>3</th>\n",
       "      <td>1</td>\n",
       "      <td>0.032515</td>\n",
       "      <td>-1</td>\n",
       "      <td>49</td>\n",
       "      <td>-1</td>\n",
       "      <td>-1</td>\n",
       "      <td>-1</td>\n",
       "    </tr>\n",
       "    <tr>\n",
       "      <th>4</th>\n",
       "      <td>1</td>\n",
       "      <td>0.056765</td>\n",
       "      <td>-1</td>\n",
       "      <td>-1</td>\n",
       "      <td>132</td>\n",
       "      <td>-1</td>\n",
       "      <td>-1</td>\n",
       "    </tr>\n",
       "  </tbody>\n",
       "</table>\n",
       "</div>"
      ],
      "text/plain": [
       "   SUBJECT_ID      TIME condition drug measurement observation procedure\n",
       "0           1  0.004807        -1  217          -1          -1        -1\n",
       "1           1  0.008643      1922   -1          -1          -1        -1\n",
       "2           1  0.027792       785   -1          -1          -1        -1\n",
       "3           1  0.032515        -1   49          -1          -1        -1\n",
       "4           1  0.056765        -1   -1         132          -1        -1"
      ]
     },
     "execution_count": 5,
     "metadata": {},
     "output_type": "execute_result"
    }
   ],
   "source": []
  },
  {
   "cell_type": "code",
   "execution_count": 6,
   "id": "2b871b91",
   "metadata": {},
   "outputs": [],
   "source": []
  },
  {
   "cell_type": "code",
   "execution_count": 7,
   "id": "67c6d2f1",
   "metadata": {},
   "outputs": [],
   "source": []
  },
  {
   "cell_type": "code",
   "execution_count": 8,
   "id": "b537ddb1",
   "metadata": {},
   "outputs": [],
   "source": []
  },
  {
   "cell_type": "code",
   "execution_count": 9,
   "id": "1b099fc0",
   "metadata": {},
   "outputs": [],
   "source": []
  },
  {
   "cell_type": "code",
   "execution_count": 10,
   "id": "7d0e59d4",
   "metadata": {},
   "outputs": [],
   "source": []
  },
  {
   "cell_type": "code",
   "execution_count": null,
   "id": "d98ff568",
   "metadata": {},
   "outputs": [],
   "source": []
  },
  {
   "cell_type": "code",
   "execution_count": null,
   "id": "130f693a",
   "metadata": {},
   "outputs": [],
   "source": []
  }
 ],
 "metadata": {
  "kernelspec": {
   "display_name": "Python 3 (ipykernel)",
   "language": "python",
   "name": "python3"
  },
  "language_info": {
   "codemirror_mode": {
    "name": "ipython",
    "version": 3
   },
   "file_extension": ".py",
   "mimetype": "text/x-python",
   "name": "python",
   "nbconvert_exporter": "python",
   "pygments_lexer": "ipython3",
   "version": "3.11.5"
  }
 },
 "nbformat": 4,
 "nbformat_minor": 5
}
